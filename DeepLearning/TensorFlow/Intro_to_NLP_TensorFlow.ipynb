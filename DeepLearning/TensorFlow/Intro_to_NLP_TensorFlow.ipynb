{
  "nbformat": 4,
  "nbformat_minor": 0,
  "metadata": {
    "colab": {
      "name": "Intro_to_NLP_TensorFlow",
      "provenance": [],
      "authorship_tag": "ABX9TyMEZJLA9imjPeeQIQlwJZDd",
      "include_colab_link": true
    },
    "kernelspec": {
      "name": "python3",
      "display_name": "Python 3"
    }
  },
  "cells": [
    {
      "cell_type": "markdown",
      "metadata": {
        "id": "view-in-github",
        "colab_type": "text"
      },
      "source": [
        "<a href=\"https://colab.research.google.com/github/galvaowesley/MachineLearning_Learning/blob/master/DeepLearning/TensorFlow/Intro_to_NLP_TensorFlow.ipynb\" target=\"_parent\"><img src=\"https://colab.research.google.com/assets/colab-badge.svg\" alt=\"Open In Colab\"/></a>"
      ]
    },
    {
      "cell_type": "markdown",
      "metadata": {
        "id": "ma_O8B5nU5Vg",
        "colab_type": "text"
      },
      "source": [
        "Natural Language Processing with TensorFlow\n",
        "===\n",
        "Wesley Galvão \n",
        "\n",
        "Aug, 2020\n",
        "\n",
        "This notebook is based on the videos serie of [TensorFlow channel](https://www.youtube.com/playlist?list=PLQY2H8rRoyvzDbLUZkbudP-MFQZwNmU4S)"
      ]
    },
    {
      "cell_type": "markdown",
      "metadata": {
        "id": "usRbPlIVTAac",
        "colab_type": "text"
      },
      "source": [
        "# Preprocessing techniques"
      ]
    },
    {
      "cell_type": "markdown",
      "metadata": {
        "id": "cl6i9czDVRAk",
        "colab_type": "text"
      },
      "source": [
        "## Tokenization\n",
        "\n",
        "The tokenization is a technique to represent the words in a way that a computer can process them. Thus, a tokenized sentence, or list of sentences, can be train a Neural Network later. "
      ]
    },
    {
      "cell_type": "code",
      "metadata": {
        "id": "pRJqfCLUUK_S",
        "colab_type": "code",
        "colab": {
          "base_uri": "https://localhost:8080/",
          "height": 52
        },
        "outputId": "b11f90b4-c64c-4b0d-ab5e-6b00a8c23974"
      },
      "source": [
        "import tensorflow as tf\n",
        "from tensorflow import keras\n",
        "\n",
        "from tensorflow.keras.preprocessing.text import Tokenizer\n",
        "\n",
        "# List of sentences to tokenize\n",
        "sentences = [\n",
        "    'I love my mom',\n",
        "    'I love my dad',\n",
        "    'You love me!',\n",
        "    'Do you think my dad is cool?'\n",
        "]\n",
        "\n",
        "# intializing a tokenizer that can index\n",
        "# num_words is the maximum number words that can be kept \n",
        "# tokenizer will automatically help in choosing most frequent words\n",
        "tokenizer = Tokenizer(num_words = 100)\n",
        "# fitting the sentences to using created tokenizer object\n",
        "tokenizer.fit_on_texts(sentences)\n",
        "# the full list of words is available as the tokenizer's word index\n",
        "word_index = tokenizer.word_index\n",
        "\n",
        "# Print the indexed dictionary \n",
        "print(\"\\nWord Index = \", word_index)\n"
      ],
      "execution_count": null,
      "outputs": [
        {
          "output_type": "stream",
          "text": [
            "\n",
            "Word Index =  {'love': 1, 'my': 2, 'i': 3, 'dad': 4, 'you': 5, 'mom': 6, 'me': 7, 'do': 8, 'think': 9, 'is': 10, 'cool': 11}\n"
          ],
          "name": "stdout"
        }
      ]
    },
    {
      "cell_type": "markdown",
      "metadata": {
        "id": "jAshF7kebNuQ",
        "colab_type": "text"
      },
      "source": [
        "## Sequecing\n",
        "\n",
        "In this step we'll sequence the setences. Once the words are properly indexed and tokenized, the setences can be represented by a sequence of numbers ordered by their respective words. In other words, we'll create sequences of tokens that represent each sentence."
      ]
    },
    {
      "cell_type": "code",
      "metadata": {
        "id": "f77UlYDZhkGK",
        "colab_type": "code",
        "colab": {
          "base_uri": "https://localhost:8080/",
          "height": 86
        },
        "outputId": "0cb2d86c-193c-45af-e451-171a165be5a7"
      },
      "source": [
        "# Create sequences of tokens that represent each sentence\n",
        "sequences = tokenizer.texts_to_sequences(sentences)\n",
        "print(\"\\nWord Index = \", word_index)\n",
        "print(\"\\nSequences = \", sequences)"
      ],
      "execution_count": null,
      "outputs": [
        {
          "output_type": "stream",
          "text": [
            "\n",
            "Word Index =  {'love': 1, 'my': 2, 'i': 3, 'dad': 4, 'you': 5, 'mom': 6, 'me': 7, 'do': 8, 'think': 9, 'is': 10, 'cool': 11}\n",
            "\n",
            "Sequences =  [[3, 1, 2, 6], [3, 1, 2, 4], [5, 1, 7], [8, 5, 9, 2, 4, 10, 11]]\n"
          ],
          "name": "stdout"
        }
      ]
    },
    {
      "cell_type": "markdown",
      "metadata": {
        "id": "aKZ2tPwfiWGk",
        "colab_type": "text"
      },
      "source": [
        "Note that each number of sequence corresponds to a token. For example, the sequence `[4, 2, 3, 7]` is related to the sentence `I love my mom`, because:\n",
        "- `i`: 4\n",
        "- `love` : 2\n",
        "- `my` : 3\n",
        "- `mom` : 7 "
      ]
    },
    {
      "cell_type": "markdown",
      "metadata": {
        "id": "357K7l7SMSU9",
        "colab_type": "text"
      },
      "source": [
        "## Unseen words\n",
        "\n",
        "Let's try to sequence a new list of sentences where there are words that the already fitted tokenizer is not familiarized with. What can happen?\n"
      ]
    },
    {
      "cell_type": "code",
      "metadata": {
        "id": "VtKYQCp7NQ7o",
        "colab_type": "code",
        "colab": {
          "base_uri": "https://localhost:8080/",
          "height": 52
        },
        "outputId": "5459da62-cbaa-4188-d191-69540b7ccaed"
      },
      "source": [
        "# New sentences with words that the tokenizer wasn't fit to\n",
        "new_sentences = [\n",
        "    'I love my girlfriend',\n",
        "    'My dog is cool'\n",
        "]\n",
        "\n",
        "# Create sequences of tokens\n",
        "new_seq = tokenizer.texts_to_sequences(new_sentences)\n",
        "print(\"\\nNew Sequence = \", new_seq)"
      ],
      "execution_count": null,
      "outputs": [
        {
          "output_type": "stream",
          "text": [
            "\n",
            "New Sequence =  [[3, 1, 2], [2, 10, 11]]\n"
          ],
          "name": "stdout"
        }
      ]
    },
    {
      "cell_type": "markdown",
      "metadata": {
        "id": "ME3MD4leOCK7",
        "colab_type": "text"
      },
      "source": [
        "Note that the sentence `I love my girlfriend` has 4 words, and the respective sequence` [3,1,2] `has only 3 numbers. This is because the tokenizer does not recognize the new word `girlfriend`. The same is true for the second sentence.\n",
        "\n",
        "To work around this problem, we will use the parameter `oov_token = '<OOV>'` in the function `Tokenizer ()`. This generates an ** Out of Vocabulary ** token when an unrecognized token occurs in the vocabulary."
      ]
    },
    {
      "cell_type": "code",
      "metadata": {
        "id": "IR7xgFYoPYJ8",
        "colab_type": "code",
        "colab": {
          "base_uri": "https://localhost:8080/",
          "height": 86
        },
        "outputId": "15091cb9-e249-4ff7-ef1d-8a3300e92336"
      },
      "source": [
        "# Apply tokenizer\n",
        "tokenizer = Tokenizer(num_words = 100, oov_token = '<OOV>')\n",
        "tokenizer.fit_on_texts(sentences)\n",
        "word_index = tokenizer.word_index\n",
        "\n",
        "# New sentences with words that the tokenizer wasn't fit to\n",
        "new_sentences = [\n",
        "    'I love my girlfriend',\n",
        "    'My dog is cool'\n",
        "]\n",
        "\n",
        "# Create sequences of tokens representing each sentence\n",
        "new_seq = tokenizer.texts_to_sequences(new_sentences)\n",
        "print(\"\\nWord Index = \", word_index)\n",
        "print(\"\\nNew Sequence = \", new_seq)"
      ],
      "execution_count": null,
      "outputs": [
        {
          "output_type": "stream",
          "text": [
            "\n",
            "Word Index =  {'<OOV>': 1, 'love': 2, 'my': 3, 'i': 4, 'dad': 5, 'you': 6, 'mom': 7, 'me': 8, 'do': 9, 'think': 10, 'is': 11, 'cool': 12}\n",
            "\n",
            "New Sequence =  [[4, 2, 3, 1], [3, 1, 11, 12]]\n"
          ],
          "name": "stdout"
        }
      ]
    },
    {
      "cell_type": "markdown",
      "metadata": {
        "id": "p6zmHZtNq5Ii",
        "colab_type": "text"
      },
      "source": [
        "## Padding\n",
        "\n",
        "So far, we have seen that the strings have different lengths. But what if we need to train a neural network, how to handle with sequences of different lengths?\n",
        "\n",
        "For this, we will use the padding technique, that pads the sequence with zeros, if necessary. \n",
        "\n",
        "First, import `pad_sequence` method. \n",
        "\n",
        "\n"
      ]
    },
    {
      "cell_type": "code",
      "metadata": {
        "id": "mWZ_d2T_uUlZ",
        "colab_type": "code",
        "colab": {
          "base_uri": "https://localhost:8080/",
          "height": 139
        },
        "outputId": "6b3a2a8c-c445-45e5-e77d-e8ea54619d49"
      },
      "source": [
        "# Import pad_sequence method\n",
        "from tensorflow.keras.preprocessing.sequence import pad_sequences\n",
        "\n",
        "# Pass sequences to pad_sequence method \n",
        "# padded = pad_sequences(sequences, truncating = 'post', maxlen = 5)\n",
        "padded = pad_sequences(sequences)\n",
        "\n",
        "# Print the original and padded sequences\n",
        "print(\"\\nSequences = \", sequences)\n",
        "print(\"\\nPadded Sequences = \", padded)"
      ],
      "execution_count": null,
      "outputs": [
        {
          "output_type": "stream",
          "text": [
            "\n",
            "Sequences =  [[3, 1, 2, 6], [3, 1, 2, 4], [5, 1, 7], [8, 5, 9, 2, 4, 10, 11]]\n",
            "\n",
            "Padded Sequences =  [[ 0  0  0  3  1  2  6]\n",
            " [ 0  0  0  3  1  2  4]\n",
            " [ 0  0  0  0  5  1  7]\n",
            " [ 8  5  9  2  4 10 11]]\n"
          ],
          "name": "stdout"
        }
      ]
    },
    {
      "cell_type": "markdown",
      "metadata": {
        "id": "IPhuKMmWrlCQ",
        "colab_type": "text"
      },
      "source": [
        "\n",
        "\n",
        "---\n",
        "\n",
        "# Training a model to recognize sentiment in text\n",
        "\n",
        "\n"
      ]
    },
    {
      "cell_type": "markdown",
      "metadata": {
        "id": "ZDsrr-8Kxi_n",
        "colab_type": "text"
      },
      "source": [
        "In this section we'll train a model to recognize if a sentence is sarcastic or not, based on the [dataset](https://www.kaggle.com/rmisra/news-headlines-dataset-for-sarcasm-detection/home) of [Rishabh Misra](https://rishabhmisra.github.io/).\n",
        "\n",
        "The dataset is structured as json. The content has the following organization:\n",
        "\n",
        "**Content**\n",
        "\n",
        "Each record consists of three attributes:\n",
        "\n",
        "- `is_sarcastic`: 1 if the record is sarcastic otherwise 0\n",
        "\n",
        "- `headline`: the headline of the news article\n",
        "\n",
        "- `article_link`: link to the original news article. Useful in collecting supplementary data\n"
      ]
    },
    {
      "cell_type": "markdown",
      "metadata": {
        "id": "Aw3L-XVr5YeC",
        "colab_type": "text"
      },
      "source": [
        "## Importing and loading dataset"
      ]
    },
    {
      "cell_type": "code",
      "metadata": {
        "id": "B19rsHmv5kQR",
        "colab_type": "code",
        "colab": {}
      },
      "source": [
        "# Import json library to handle json files\n",
        "import json\n",
        "\n",
        "import tensorflow as tf\n",
        "import pandas as pd\n",
        "import numpy as np\n",
        "\n",
        "from tensorflow.keras.preprocessing.text import Tokenizer\n",
        "from tensorflow.keras.preprocessing.sequence import pad_sequences\n",
        "\n",
        "# Declare variables\n",
        "vocab_size = 10000\n",
        "embedding_dim = 16\n",
        "max_length = 100\n",
        "trunc_type = 'post'\n",
        "padding_type = 'post'\n",
        "oov_tok = \"<OOV>\"\n",
        "training_size = 20000"
      ],
      "execution_count": 88,
      "outputs": []
    },
    {
      "cell_type": "code",
      "metadata": {
        "id": "YUnZMjWT6hUz",
        "colab_type": "code",
        "colab": {
          "base_uri": "https://localhost:8080/",
          "height": 208
        },
        "outputId": "b0d12aa9-5c75-4aed-ad1d-696135efdaee"
      },
      "source": [
        "# Download dataset to /temp directory\n",
        "!wget --no-check-certificate \\\n",
        "  https://storage.googleapis.com/laurencemoroney-blog.appspot.com/sarcasm.json \\\n",
        "    -O /tmp/sarcasm.json\n",
        "  "
      ],
      "execution_count": 77,
      "outputs": [
        {
          "output_type": "stream",
          "text": [
            "--2020-08-09 23:02:09--  https://storage.googleapis.com/laurencemoroney-blog.appspot.com/sarcasm.json\n",
            "Resolving storage.googleapis.com (storage.googleapis.com)... 74.125.203.128, 74.125.204.128, 64.233.189.128, ...\n",
            "Connecting to storage.googleapis.com (storage.googleapis.com)|74.125.203.128|:443... connected.\n",
            "HTTP request sent, awaiting response... 200 OK\n",
            "Length: 5643545 (5.4M) [application/json]\n",
            "Saving to: ‘/tmp/sarcasm.json’\n",
            "\n",
            "\r/tmp/sarcasm.json     0%[                    ]       0  --.-KB/s               \r/tmp/sarcasm.json    74%[=============>      ]   4.01M  10.2MB/s               \r/tmp/sarcasm.json   100%[===================>]   5.38M  13.4MB/s    in 0.4s    \n",
            "\n",
            "2020-08-09 23:02:10 (13.4 MB/s) - ‘/tmp/sarcasm.json’ saved [5643545/5643545]\n",
            "\n"
          ],
          "name": "stdout"
        }
      ]
    },
    {
      "cell_type": "code",
      "metadata": {
        "id": "Su4qLZSK6-Q2",
        "colab_type": "code",
        "colab": {
          "base_uri": "https://localhost:8080/",
          "height": 278
        },
        "outputId": "da03165a-215c-4d9f-dbdf-6bbdb5751ee7"
      },
      "source": [
        "# Open the dataset\n",
        "with open(\"/tmp/sarcasm.json\", 'r') as f:\n",
        "  dataset = json.load(f)\n",
        "\n",
        "sentences = []\n",
        "labels = []\n",
        "\n",
        "for item in dataset:\n",
        "  sentences.append(item['headline'])\n",
        "  labels.append(item['is_sarcastic'])\n",
        "\n",
        "# Print dataset head\n",
        "dataset[0:5]"
      ],
      "execution_count": 78,
      "outputs": [
        {
          "output_type": "execute_result",
          "data": {
            "text/plain": [
              "[{'article_link': 'https://www.huffingtonpost.com/entry/versace-black-code_us_5861fbefe4b0de3a08f600d5',\n",
              "  'headline': \"former versace store clerk sues over secret 'black code' for minority shoppers\",\n",
              "  'is_sarcastic': 0},\n",
              " {'article_link': 'https://www.huffingtonpost.com/entry/roseanne-revival-review_us_5ab3a497e4b054d118e04365',\n",
              "  'headline': \"the 'roseanne' revival catches up to our thorny political mood, for better and worse\",\n",
              "  'is_sarcastic': 0},\n",
              " {'article_link': 'https://local.theonion.com/mom-starting-to-fear-son-s-web-series-closest-thing-she-1819576697',\n",
              "  'headline': \"mom starting to fear son's web series closest thing she will have to grandchild\",\n",
              "  'is_sarcastic': 1},\n",
              " {'article_link': 'https://politics.theonion.com/boehner-just-wants-wife-to-listen-not-come-up-with-alt-1819574302',\n",
              "  'headline': 'boehner just wants wife to listen, not come up with alternative debt-reduction ideas',\n",
              "  'is_sarcastic': 1},\n",
              " {'article_link': 'https://www.huffingtonpost.com/entry/jk-rowling-wishes-snape-happy-birthday_us_569117c4e4b0cad15e64fdcb',\n",
              "  'headline': 'j.k. rowling wishes snape happy birthday in the most magical way',\n",
              "  'is_sarcastic': 0}]"
            ]
          },
          "metadata": {
            "tags": []
          },
          "execution_count": 78
        }
      ]
    },
    {
      "cell_type": "code",
      "metadata": {
        "id": "ERk5xtcpAVn3",
        "colab_type": "code",
        "colab": {
          "base_uri": "https://localhost:8080/",
          "height": 206
        },
        "outputId": "72b5b51e-62de-4157-df95-e56adf0b8097"
      },
      "source": [
        "# Covert to Dataframe\n",
        "df = pd.DataFrame(dataset)\n",
        "df.head(5)"
      ],
      "execution_count": 79,
      "outputs": [
        {
          "output_type": "execute_result",
          "data": {
            "text/html": [
              "<div>\n",
              "<style scoped>\n",
              "    .dataframe tbody tr th:only-of-type {\n",
              "        vertical-align: middle;\n",
              "    }\n",
              "\n",
              "    .dataframe tbody tr th {\n",
              "        vertical-align: top;\n",
              "    }\n",
              "\n",
              "    .dataframe thead th {\n",
              "        text-align: right;\n",
              "    }\n",
              "</style>\n",
              "<table border=\"1\" class=\"dataframe\">\n",
              "  <thead>\n",
              "    <tr style=\"text-align: right;\">\n",
              "      <th></th>\n",
              "      <th>article_link</th>\n",
              "      <th>headline</th>\n",
              "      <th>is_sarcastic</th>\n",
              "    </tr>\n",
              "  </thead>\n",
              "  <tbody>\n",
              "    <tr>\n",
              "      <th>0</th>\n",
              "      <td>https://www.huffingtonpost.com/entry/versace-b...</td>\n",
              "      <td>former versace store clerk sues over secret 'b...</td>\n",
              "      <td>0</td>\n",
              "    </tr>\n",
              "    <tr>\n",
              "      <th>1</th>\n",
              "      <td>https://www.huffingtonpost.com/entry/roseanne-...</td>\n",
              "      <td>the 'roseanne' revival catches up to our thorn...</td>\n",
              "      <td>0</td>\n",
              "    </tr>\n",
              "    <tr>\n",
              "      <th>2</th>\n",
              "      <td>https://local.theonion.com/mom-starting-to-fea...</td>\n",
              "      <td>mom starting to fear son's web series closest ...</td>\n",
              "      <td>1</td>\n",
              "    </tr>\n",
              "    <tr>\n",
              "      <th>3</th>\n",
              "      <td>https://politics.theonion.com/boehner-just-wan...</td>\n",
              "      <td>boehner just wants wife to listen, not come up...</td>\n",
              "      <td>1</td>\n",
              "    </tr>\n",
              "    <tr>\n",
              "      <th>4</th>\n",
              "      <td>https://www.huffingtonpost.com/entry/jk-rowlin...</td>\n",
              "      <td>j.k. rowling wishes snape happy birthday in th...</td>\n",
              "      <td>0</td>\n",
              "    </tr>\n",
              "  </tbody>\n",
              "</table>\n",
              "</div>"
            ],
            "text/plain": [
              "                                        article_link  ... is_sarcastic\n",
              "0  https://www.huffingtonpost.com/entry/versace-b...  ...            0\n",
              "1  https://www.huffingtonpost.com/entry/roseanne-...  ...            0\n",
              "2  https://local.theonion.com/mom-starting-to-fea...  ...            1\n",
              "3  https://politics.theonion.com/boehner-just-wan...  ...            1\n",
              "4  https://www.huffingtonpost.com/entry/jk-rowlin...  ...            0\n",
              "\n",
              "[5 rows x 3 columns]"
            ]
          },
          "metadata": {
            "tags": []
          },
          "execution_count": 79
        }
      ]
    },
    {
      "cell_type": "markdown",
      "metadata": {
        "id": "vJ43VCNz-Nuy",
        "colab_type": "text"
      },
      "source": [
        "## Spliting dataset\n",
        "\n",
        "Let's split dataset in two subsets. One to train the model and other to test the trained model. The train subset size is 20000.  "
      ]
    },
    {
      "cell_type": "code",
      "metadata": {
        "id": "9KwlQDMmbkb9",
        "colab_type": "code",
        "colab": {}
      },
      "source": [
        "# Training subsets\n",
        "training_sentences = sentences[0:training_size]\n",
        "training_labels = labels[0:training_size]\n",
        "# Testing subsets\n",
        "testing_sentences  = sentences[training_size:]\n",
        "testing_labels = labels[training_size:]"
      ],
      "execution_count": 80,
      "outputs": []
    },
    {
      "cell_type": "markdown",
      "metadata": {
        "id": "rKwJRItDcPbg",
        "colab_type": "text"
      },
      "source": [
        "## Preprocessing\n",
        "\n",
        "In this section we will run the preprocessing techniques already seen. "
      ]
    },
    {
      "cell_type": "markdown",
      "metadata": {
        "id": "yKdm4wcsdAtw",
        "colab_type": "text"
      },
      "source": [
        "### Tokenization"
      ]
    },
    {
      "cell_type": "code",
      "metadata": {
        "id": "E-cyBmGXdCd5",
        "colab_type": "code",
        "colab": {}
      },
      "source": [
        "# Initialize tokenizer\n",
        "tokenizer = Tokenizer(num_words = vocab_size, oov_token = oov_tok)\n",
        "# Fitting the training sentences\n",
        "tokenizer.fit_on_texts(training_sentences)\n",
        "# Create a words dictionary\n",
        "word_index = tokenizer.word_index\n"
      ],
      "execution_count": 82,
      "outputs": []
    },
    {
      "cell_type": "markdown",
      "metadata": {
        "id": "TaETrIxveis4",
        "colab_type": "text"
      },
      "source": [
        "### Sequencing"
      ]
    },
    {
      "cell_type": "code",
      "metadata": {
        "id": "HXa_-7lielAQ",
        "colab_type": "code",
        "colab": {}
      },
      "source": [
        "# Create sequences of tokens that represent each sentence \n",
        "training_sequences = tokenizer.texts_to_sequences(training_sentences)\n",
        "testing_sequences = tokenizer.texts_to_sequences(testing_sentences)"
      ],
      "execution_count": 86,
      "outputs": []
    },
    {
      "cell_type": "markdown",
      "metadata": {
        "id": "AtqZZhpnfP4t",
        "colab_type": "text"
      },
      "source": [
        "### Padding"
      ]
    },
    {
      "cell_type": "code",
      "metadata": {
        "id": "KiciNrkzfPgU",
        "colab_type": "code",
        "colab": {}
      },
      "source": [
        "# Create padding sequences for training sentences \n",
        "training_padded = pad_sequences(training_sequences, maxlen = max_length, padding = padding_type, truncating = trunc_type)\n",
        "# Create padding sequences for testing sentences \n",
        "testing_padded = pad_sequences(testing_sequences, maxlen = max_length, padding = padding_type, truncating = trunc_type)"
      ],
      "execution_count": 90,
      "outputs": []
    },
    {
      "cell_type": "markdown",
      "metadata": {
        "id": "uQ9vNZyJo_1G",
        "colab_type": "text"
      },
      "source": [
        "## Training\n"
      ]
    },
    {
      "cell_type": "code",
      "metadata": {
        "id": "mjSvsziJpJEK",
        "colab_type": "code",
        "colab": {}
      },
      "source": [
        "# Convert the sets to array to get it to work with TensorFlow 2\n",
        "training_padded = np.array(training_padded)\n",
        "training_labels = np.array(training_labels)\n",
        "\n",
        "testing_padded = np.array(testing_padded)\n",
        "testing_labels = np.array(testing_labels)"
      ],
      "execution_count": 91,
      "outputs": []
    },
    {
      "cell_type": "markdown",
      "metadata": {
        "id": "6H9IBhNBpCEn",
        "colab_type": "text"
      },
      "source": [
        "### Embedding"
      ]
    },
    {
      "cell_type": "code",
      "metadata": {
        "id": "Er0LBqqrpnlr",
        "colab_type": "code",
        "colab": {}
      },
      "source": [
        "# Create a model\n",
        "model = tf.keras.Sequential([\n",
        "    # Embedding layer for NN                         \n",
        "    tf.keras.layers.Embedding(vocab_size, embedding_dim, input_length=max_length),\n",
        "    # Global Average pooling is similar to adding up vectors\n",
        "    tf.keras.layers.GlobalAveragePooling1D(),\n",
        "    tf.keras.layers.Dense(24, activation = 'relu'),\n",
        "    tf.keras.layers.Dense(1, activation = 'sigmoid')                             \n",
        "])\n",
        "model.compile(loss = 'binary_crossentropy', optimizer = 'adam', metrics = ['accuracy'])"
      ],
      "execution_count": 93,
      "outputs": []
    },
    {
      "cell_type": "code",
      "metadata": {
        "id": "GOf-hqq7sNpM",
        "colab_type": "code",
        "colab": {
          "base_uri": "https://localhost:8080/",
          "height": 295
        },
        "outputId": "572d3b3e-92ec-48a7-ae8c-a83086a109f4"
      },
      "source": [
        "# Model summary\n",
        "model.summary()"
      ],
      "execution_count": 95,
      "outputs": [
        {
          "output_type": "stream",
          "text": [
            "Model: \"sequential_1\"\n",
            "_________________________________________________________________\n",
            "Layer (type)                 Output Shape              Param #   \n",
            "=================================================================\n",
            "embedding_1 (Embedding)      (None, 100, 16)           160000    \n",
            "_________________________________________________________________\n",
            "global_average_pooling1d_1 ( (None, 16)                0         \n",
            "_________________________________________________________________\n",
            "dense_2 (Dense)              (None, 24)                408       \n",
            "_________________________________________________________________\n",
            "dense_3 (Dense)              (None, 1)                 25        \n",
            "=================================================================\n",
            "Total params: 160,433\n",
            "Trainable params: 160,433\n",
            "Non-trainable params: 0\n",
            "_________________________________________________________________\n"
          ],
          "name": "stdout"
        }
      ]
    },
    {
      "cell_type": "code",
      "metadata": {
        "id": "noEjGkWbsVqf",
        "colab_type": "code",
        "colab": {}
      },
      "source": [
        "# Train the model\n",
        "epoch_num = 30\n",
        "history = model.fit(training_padded, \n",
        "                    training_labels, \n",
        "                    epochs = epoch_num, \n",
        "                    validation_data = (testing_padded, testing_labels), verbose = 2)"
      ],
      "execution_count": null,
      "outputs": []
    },
    {
      "cell_type": "markdown",
      "metadata": {
        "id": "d5f1pYXyuXvu",
        "colab_type": "text"
      },
      "source": [
        "### Evaluation"
      ]
    },
    {
      "cell_type": "code",
      "metadata": {
        "colab_type": "code",
        "id": "2HYfBKXjkmU8",
        "colab": {
          "base_uri": "https://localhost:8080/",
          "height": 541
        },
        "outputId": "bc8c6d14-aee2-471b-bbb7-9e02144348d9"
      },
      "source": [
        "import matplotlib.pyplot as plt\n",
        "\n",
        "\n",
        "def plot_graphs(history, string):\n",
        "  plt.plot(history.history[string])\n",
        "  plt.plot(history.history['val_'+string])\n",
        "  plt.xlabel(\"Epochs\")\n",
        "  plt.ylabel(string)\n",
        "  plt.legend([string, 'val_'+string])\n",
        "  plt.show()\n",
        "  \n",
        "plot_graphs(history, \"accuracy\")\n",
        "plot_graphs(history, \"loss\")"
      ],
      "execution_count": 98,
      "outputs": [
        {
          "output_type": "display_data",
          "data": {
            "image/png": "[encoded data removed]",
            "text/plain": [
              "<Figure size 432x288 with 1 Axes>"
            ]
          },
          "metadata": {
            "tags": [],
            "needs_background": "light"
          }
        },
        {
          "output_type": "display_data",
          "data": {
            "image/png": "[encoded data removed]",
            "text/plain": [
              "<Figure size 432x288 with 1 Axes>"
            ]
          },
          "metadata": {
            "tags": [],
            "needs_background": "light"
          }
        }
      ]
    },
    {
      "cell_type": "markdown",
      "metadata": {
        "id": "41RCG8mhugjg",
        "colab_type": "text"
      },
      "source": [
        "## Predicting sentences"
      ]
    },
    {
      "cell_type": "code",
      "metadata": {
        "id": "NhYlNZ37undV",
        "colab_type": "code",
        "colab": {
          "base_uri": "https://localhost:8080/",
          "height": 104
        },
        "outputId": "1184f6c8-ae84-4a52-a12c-1511690cdc4d"
      },
      "source": [
        "# New sentences\n",
        "new_sentences = [\n",
        "    \"Well, what a surprise, bitch\", # sarcastic\n",
        "    \"Have a nice day, my dear\", # not sarcastic\n",
        "    \"Nice perfume. How long did you marinate in it?\", # sarcastic\n",
        "    \"granny starting to fear spider in the garden might be real\", # sarcastic\n",
        "    \"game of thrones season finale showing this sunday night\" # not sarcastic\n",
        "]\n",
        "# Sequencing\n",
        "sequences = tokenizer.texts_to_sequences(new_sentences)\n",
        "# Padding\n",
        "padded = pad_sequences(sequences, maxlen=max_length, padding=padding_type, truncating=trunc_type)\n",
        "# Predicting\n",
        "print(np.round(model.predict(padded),3))\n"
      ],
      "execution_count": 120,
      "outputs": [
        {
          "output_type": "stream",
          "text": [
            "[[0.787]\n",
            " [0.   ]\n",
            " [0.845]\n",
            " [0.113]\n",
            " [0.   ]]\n"
          ],
          "name": "stdout"
        }
      ]
    }
  ]
}